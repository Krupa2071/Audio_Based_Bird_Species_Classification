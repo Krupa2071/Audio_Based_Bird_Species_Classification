{
 "cells": [
  {
   "cell_type": "markdown",
   "metadata": {},
   "source": [
    "# ANN Model"
   ]
  },
  {
   "cell_type": "markdown",
   "metadata": {},
   "source": [
    "Importing necesary libraries"
   ]
  },
  {
   "cell_type": "code",
   "execution_count": 1,
   "metadata": {},
   "outputs": [],
   "source": [
    "import librosa\n",
    "import pandas as pd\n",
    "import numpy as np\n",
    "import matplotlib.pyplot as plt\n",
    "import os\n",
    "from PIL import Image\n",
    "import pathlib\n",
    "import csv\n",
    "from sklearn.model_selection import train_test_split\n",
    "from sklearn.preprocessing import LabelEncoder, StandardScaler\n",
    "import keras\n",
    "from keras import layers\n",
    "from keras import layers\n",
    "import keras\n",
    "from keras.models import Sequential\n",
    "import warnings"
   ]
  },
  {
   "cell_type": "markdown",
   "metadata": {},
   "source": [
    "Data preprocessing"
   ]
  },
  {
   "cell_type": "code",
   "execution_count": 2,
   "metadata": {},
   "outputs": [
    {
     "name": "stdout",
     "output_type": "stream",
     "text": [
      "[1 0 4 1 2 3 1 5 5 5 0 2 4 2 2 2 1 2 2 4 3 2 1 0 2 5 4 0 3 4 2 4 1 1 4 5 2\n",
      " 0 1 2 3 0 1 1 0 3 5 3 1 1 0 1 1 2 5 2 3 4 3 0 2 0 4 0 1 0 3 5 5 5 1 4 5 0\n",
      " 0 2 4 0 1 1 4 3 2 5 0 3 3 0 3 4 5 5 3 5 1 0 3 0 3 1 3 3 1 0 3 1 5 3 2 4 3\n",
      " 5 5 4 4 1 4 1 2 0 5 4 2 4 2 1 2 5 1 4 3 1 2 3 1 5 0 1 5 5 5 5 5 4 4 1 1 5\n",
      " 5 2 4 4 5 3 2 4 3 1 1 1 3 1 5 0 3 3 1 2 2 5 1 4 5 2 4 5 1 5 2 0 4 5 2 4 2\n",
      " 5 0 4 4 0 5 1 2 4 2 0 1 2 0 0 2 1 3 4 0 3 4 3 2 2 5 5 4 1 2 4 2 0 4 3 1 1\n",
      " 5 4 1 2 3 2 2 0 4 1 3 1 5 4 4 2 5 2 2 5 3 2]\n",
      "[4 0 4 2 1 4 0 2 4 5 3 3 3 2 2 2 4 3 0 5 0 2 3 3 3 0 1 0 0 0 4 4 0 2 3 3 0\n",
      " 0 0 1 1 0 4 5 0 4 4 3 1 0 1 3 1 0 0 4 5 4 3 4 3 2]\n"
     ]
    }
   ],
   "source": [
    "data = pd.read_csv('bird dataset.csv')\n",
    "data.head() # Dropping unneccesary columns\n",
    "data = data.drop(['filename'],axis=1) #Encoding the Labels\n",
    "birds_list = data.iloc[:, -1]\n",
    "encoder = LabelEncoder()\n",
    "y = encoder.fit_transform(birds_list) #Scaling the Feature columns\n",
    "scaler = StandardScaler()\n",
    "X = scaler.fit_transform(np.array(data.iloc[:, :-1], dtype = float)) #Dividing data into training and Testing set\n",
    "X_train, X_test, y_train, y_test = train_test_split(X, y, test_size=0.2)\n",
    "print(y_train)\n",
    "print(y_test)"
   ]
  },
  {
   "cell_type": "markdown",
   "metadata": {},
   "source": [
    "Building an ANN model"
   ]
  },
  {
   "cell_type": "code",
   "execution_count": 3,
   "metadata": {},
   "outputs": [],
   "source": [
    "model = Sequential()\n",
    "model.add(layers.Dense(256, activation='relu', input_shape=(X_train.shape[1],)))\n",
    "model.add(layers.Dense(128, activation='relu'))\n",
    "model.add(layers.Dense(64, activation='relu'))\n",
    "model.add(layers.Dense(6, activation='softmax'))\n",
    "model.compile(optimizer='adam',loss='sparse_categorical_crossentropy', metrics=['accuracy'])"
   ]
  },
  {
   "cell_type": "markdown",
   "metadata": {},
   "source": [
    "Fitting the model"
   ]
  },
  {
   "cell_type": "code",
   "execution_count": 4,
   "metadata": {},
   "outputs": [
    {
     "name": "stdout",
     "output_type": "stream",
     "text": [
      "Epoch 1/100\n",
      "2/2 [==============================] - ETA: 0s - loss: 1.8096 - accuracy: 0.14 - 0s 4ms/step - loss: 1.7986 - accuracy: 0.1615\n",
      "Epoch 2/100\n",
      "2/2 [==============================] - ETA: 0s - loss: 1.6956 - accuracy: 0.35 - 0s 4ms/step - loss: 1.6834 - accuracy: 0.3876\n",
      "Epoch 3/100\n",
      "2/2 [==============================] - ETA: 0s - loss: 1.6005 - accuracy: 0.54 - 0s 5ms/step - loss: 1.5893 - accuracy: 0.5621\n",
      "Epoch 4/100\n",
      "2/2 [==============================] - ETA: 0s - loss: 1.5143 - accuracy: 0.60 - 0s 4ms/step - loss: 1.4982 - accuracy: 0.6322\n",
      "Epoch 5/100\n",
      "2/2 [==============================] - ETA: 0s - loss: 1.4086 - accuracy: 0.65 - 0s 3ms/step - loss: 1.3994 - accuracy: 0.6723\n",
      "Epoch 6/100\n",
      "2/2 [==============================] - ETA: 0s - loss: 1.3086 - accuracy: 0.69 - 0s 3ms/step - loss: 1.3009 - accuracy: 0.6881\n",
      "Epoch 7/100\n",
      "2/2 [==============================] - ETA: 0s - loss: 1.2234 - accuracy: 0.71 - 0s 4ms/step - loss: 1.2054 - accuracy: 0.6987\n",
      "Epoch 8/100\n",
      "2/2 [==============================] - ETA: 0s - loss: 1.1267 - accuracy: 0.70 - 0s 4ms/step - loss: 1.1036 - accuracy: 0.7043\n",
      "Epoch 9/100\n",
      "2/2 [==============================] - ETA: 0s - loss: 0.9842 - accuracy: 0.75 - 0s 5ms/step - loss: 0.9929 - accuracy: 0.7471\n",
      "Epoch 10/100\n",
      "2/2 [==============================] - ETA: 0s - loss: 0.8863 - accuracy: 0.80 - 0s 4ms/step - loss: 0.8995 - accuracy: 0.7792\n",
      "Epoch 11/100\n",
      "2/2 [==============================] - ETA: 0s - loss: 0.7775 - accuracy: 0.82 - 0s 4ms/step - loss: 0.8066 - accuracy: 0.8035\n",
      "Epoch 12/100\n",
      "2/2 [==============================] - ETA: 0s - loss: 0.8076 - accuracy: 0.79 - 0s 3ms/step - loss: 0.7641 - accuracy: 0.8175\n",
      "Epoch 13/100\n",
      "2/2 [==============================] - ETA: 0s - loss: 0.6490 - accuracy: 0.85 - 0s 4ms/step - loss: 0.6642 - accuracy: 0.8438\n",
      "Epoch 14/100\n",
      "2/2 [==============================] - ETA: 0s - loss: 0.6010 - accuracy: 0.86 - 0s 4ms/step - loss: 0.6079 - accuracy: 0.8519\n",
      "Epoch 15/100\n",
      "2/2 [==============================] - ETA: 0s - loss: 0.5879 - accuracy: 0.82 - 0s 4ms/step - loss: 0.5666 - accuracy: 0.8335\n",
      "Epoch 16/100\n",
      "2/2 [==============================] - ETA: 0s - loss: 0.5168 - accuracy: 0.84 - 0s 3ms/step - loss: 0.5084 - accuracy: 0.8578\n",
      "Epoch 17/100\n",
      "2/2 [==============================] - ETA: 0s - loss: 0.5009 - accuracy: 0.87 - 0s 4ms/step - loss: 0.4740 - accuracy: 0.8818\n",
      "Epoch 18/100\n",
      "2/2 [==============================] - ETA: 0s - loss: 0.4087 - accuracy: 0.89 - 0s 4ms/step - loss: 0.4164 - accuracy: 0.8925\n",
      "Epoch 19/100\n",
      "2/2 [==============================] - ETA: 0s - loss: 0.4065 - accuracy: 0.90 - 0s 4ms/step - loss: 0.3930 - accuracy: 0.9032\n",
      "Epoch 20/100\n",
      "2/2 [==============================] - ETA: 0s - loss: 0.3509 - accuracy: 0.91 - 0s 3ms/step - loss: 0.3509 - accuracy: 0.9167\n",
      "Epoch 21/100\n",
      "2/2 [==============================] - ETA: 0s - loss: 0.3587 - accuracy: 0.88 - 0s 4ms/step - loss: 0.3346 - accuracy: 0.9090\n",
      "Epoch 22/100\n",
      "2/2 [==============================] - ETA: 0s - loss: 0.3271 - accuracy: 0.92 - 0s 4ms/step - loss: 0.3047 - accuracy: 0.9356\n",
      "Epoch 23/100\n",
      "2/2 [==============================] - ETA: 0s - loss: 0.2937 - accuracy: 0.93 - 0s 4ms/step - loss: 0.2775 - accuracy: 0.9464\n",
      "Epoch 24/100\n",
      "2/2 [==============================] - ETA: 0s - loss: 0.2230 - accuracy: 0.96 - 0s 4ms/step - loss: 0.2391 - accuracy: 0.9650\n",
      "Epoch 25/100\n",
      "2/2 [==============================] - ETA: 0s - loss: 0.2617 - accuracy: 0.93 - 0s 3ms/step - loss: 0.2380 - accuracy: 0.9546\n",
      "Epoch 26/100\n",
      "2/2 [==============================] - ETA: 0s - loss: 0.1952 - accuracy: 0.98 - 0s 4ms/step - loss: 0.2046 - accuracy: 0.9675\n",
      "Epoch 27/100\n",
      "2/2 [==============================] - ETA: 0s - loss: 0.1961 - accuracy: 0.96 - 0s 3ms/step - loss: 0.1929 - accuracy: 0.9595\n",
      "Epoch 28/100\n",
      "2/2 [==============================] - ETA: 0s - loss: 0.1789 - accuracy: 0.96 - 0s 5ms/step - loss: 0.1758 - accuracy: 0.9651\n",
      "Epoch 29/100\n",
      "2/2 [==============================] - ETA: 0s - loss: 0.1512 - accuracy: 0.97 - 0s 3ms/step - loss: 0.1574 - accuracy: 0.9758\n",
      "Epoch 30/100\n",
      "2/2 [==============================] - ETA: 0s - loss: 0.1256 - accuracy: 0.98 - 0s 3ms/step - loss: 0.1398 - accuracy: 0.9811\n",
      "Epoch 31/100\n",
      "2/2 [==============================] - ETA: 0s - loss: 0.1372 - accuracy: 0.99 - 0s 3ms/step - loss: 0.1360 - accuracy: 0.9892\n",
      "Epoch 32/100\n",
      "2/2 [==============================] - ETA: 0s - loss: 0.1389 - accuracy: 0.98 - 0s 3ms/step - loss: 0.1298 - accuracy: 0.9866\n",
      "Epoch 33/100\n",
      "2/2 [==============================] - ETA: 0s - loss: 0.1213 - accuracy: 0.99 - 0s 3ms/step - loss: 0.1162 - accuracy: 0.9892\n",
      "Epoch 34/100\n",
      "2/2 [==============================] - ETA: 0s - loss: 0.1210 - accuracy: 0.99 - 0s 4ms/step - loss: 0.1104 - accuracy: 0.9892\n",
      "Epoch 35/100\n",
      "2/2 [==============================] - ETA: 0s - loss: 0.1098 - accuracy: 0.98 - 0s 3ms/step - loss: 0.1006 - accuracy: 0.9866\n",
      "Epoch 36/100\n",
      "2/2 [==============================] - ETA: 0s - loss: 0.1009 - accuracy: 0.99 - 0s 3ms/step - loss: 0.0925 - accuracy: 0.9947\n",
      "Epoch 37/100\n",
      "2/2 [==============================] - ETA: 0s - loss: 0.0851 - accuracy: 0.99 - 0s 3ms/step - loss: 0.0825 - accuracy: 0.9947\n",
      "Epoch 38/100\n",
      "2/2 [==============================] - ETA: 0s - loss: 0.0797 - accuracy: 0.99 - 0s 4ms/step - loss: 0.0766 - accuracy: 0.9947\n",
      "Epoch 39/100\n",
      "2/2 [==============================] - ETA: 0s - loss: 0.0669 - accuracy: 0.99 - 0s 3ms/step - loss: 0.0679 - accuracy: 0.9947\n",
      "Epoch 40/100\n",
      "2/2 [==============================] - ETA: 0s - loss: 0.0664 - accuracy: 1.00 - 0s 3ms/step - loss: 0.0647 - accuracy: 0.9973\n",
      "Epoch 41/100\n",
      "2/2 [==============================] - ETA: 0s - loss: 0.0506 - accuracy: 1.00 - 0s 3ms/step - loss: 0.0556 - accuracy: 0.9973\n",
      "Epoch 42/100\n",
      "2/2 [==============================] - ETA: 0s - loss: 0.0602 - accuracy: 1.00 - 0s 3ms/step - loss: 0.0558 - accuracy: 0.9973\n",
      "Epoch 43/100\n",
      "2/2 [==============================] - ETA: 0s - loss: 0.0516 - accuracy: 1.00 - 0s 3ms/step - loss: 0.0503 - accuracy: 1.0000\n",
      "Epoch 44/100\n",
      "2/2 [==============================] - ETA: 0s - loss: 0.0492 - accuracy: 1.00 - 0s 3ms/step - loss: 0.0470 - accuracy: 1.0000\n",
      "Epoch 45/100\n",
      "2/2 [==============================] - ETA: 0s - loss: 0.0373 - accuracy: 1.00 - 0s 3ms/step - loss: 0.0407 - accuracy: 1.0000\n",
      "Epoch 46/100\n",
      "2/2 [==============================] - ETA: 0s - loss: 0.0335 - accuracy: 1.00 - 0s 4ms/step - loss: 0.0371 - accuracy: 1.0000\n",
      "Epoch 47/100\n",
      "2/2 [==============================] - ETA: 0s - loss: 0.0390 - accuracy: 1.00 - 0s 3ms/step - loss: 0.0374 - accuracy: 1.0000\n",
      "Epoch 48/100\n",
      "2/2 [==============================] - ETA: 0s - loss: 0.0345 - accuracy: 1.00 - 0s 3ms/step - loss: 0.0343 - accuracy: 1.0000\n",
      "Epoch 49/100\n",
      "2/2 [==============================] - ETA: 0s - loss: 0.0325 - accuracy: 1.00 - 0s 2ms/step - loss: 0.0317 - accuracy: 1.0000\n",
      "Epoch 50/100\n",
      "2/2 [==============================] - ETA: 0s - loss: 0.0311 - accuracy: 1.00 - 0s 4ms/step - loss: 0.0299 - accuracy: 1.0000\n",
      "Epoch 51/100\n",
      "2/2 [==============================] - ETA: 0s - loss: 0.0305 - accuracy: 1.00 - 0s 3ms/step - loss: 0.0283 - accuracy: 1.0000\n",
      "Epoch 52/100\n",
      "2/2 [==============================] - ETA: 0s - loss: 0.0234 - accuracy: 1.00 - 0s 3ms/step - loss: 0.0247 - accuracy: 1.0000\n",
      "Epoch 53/100\n",
      "2/2 [==============================] - ETA: 0s - loss: 0.0257 - accuracy: 1.00 - 0s 3ms/step - loss: 0.0245 - accuracy: 1.0000\n",
      "Epoch 54/100\n",
      "2/2 [==============================] - ETA: 0s - loss: 0.0193 - accuracy: 1.00 - 0s 3ms/step - loss: 0.0212 - accuracy: 1.0000\n",
      "Epoch 55/100\n",
      "2/2 [==============================] - ETA: 0s - loss: 0.0170 - accuracy: 1.00 - 0s 3ms/step - loss: 0.0196 - accuracy: 1.0000\n",
      "Epoch 56/100\n",
      "2/2 [==============================] - ETA: 0s - loss: 0.0210 - accuracy: 1.00 - 0s 3ms/step - loss: 0.0201 - accuracy: 1.0000\n",
      "Epoch 57/100\n",
      "2/2 [==============================] - ETA: 0s - loss: 0.0201 - accuracy: 1.00 - 0s 3ms/step - loss: 0.0190 - accuracy: 1.0000\n",
      "Epoch 58/100\n",
      "2/2 [==============================] - ETA: 0s - loss: 0.0185 - accuracy: 1.00 - 0s 3ms/step - loss: 0.0178 - accuracy: 1.0000\n",
      "Epoch 59/100\n"
     ]
    },
    {
     "name": "stdout",
     "output_type": "stream",
     "text": [
      "2/2 [==============================] - ETA: 0s - loss: 0.0175 - accuracy: 1.00 - 0s 3ms/step - loss: 0.0168 - accuracy: 1.0000\n",
      "Epoch 60/100\n",
      "2/2 [==============================] - ETA: 0s - loss: 0.0137 - accuracy: 1.00 - 0s 3ms/step - loss: 0.0149 - accuracy: 1.0000\n",
      "Epoch 61/100\n",
      "2/2 [==============================] - ETA: 0s - loss: 0.0169 - accuracy: 1.00 - 0s 4ms/step - loss: 0.0155 - accuracy: 1.0000\n",
      "Epoch 62/100\n",
      "2/2 [==============================] - ETA: 0s - loss: 0.0174 - accuracy: 1.00 - 0s 3ms/step - loss: 0.0152 - accuracy: 1.0000\n",
      "Epoch 63/100\n",
      "2/2 [==============================] - ETA: 0s - loss: 0.0150 - accuracy: 1.00 - 0s 3ms/step - loss: 0.0139 - accuracy: 1.0000\n",
      "Epoch 64/100\n",
      "2/2 [==============================] - ETA: 0s - loss: 0.0125 - accuracy: 1.00 - 0s 3ms/step - loss: 0.0126 - accuracy: 1.0000\n",
      "Epoch 65/100\n",
      "2/2 [==============================] - ETA: 0s - loss: 0.0151 - accuracy: 1.00 - 0s 4ms/step - loss: 0.0131 - accuracy: 1.0000\n",
      "Epoch 66/100\n",
      "2/2 [==============================] - ETA: 0s - loss: 0.0101 - accuracy: 1.00 - 0s 4ms/step - loss: 0.0110 - accuracy: 1.0000\n",
      "Epoch 67/100\n",
      "2/2 [==============================] - ETA: 0s - loss: 0.0122 - accuracy: 1.00 - 0s 4ms/step - loss: 0.0114 - accuracy: 1.0000\n",
      "Epoch 68/100\n",
      "2/2 [==============================] - ETA: 0s - loss: 0.0102 - accuracy: 1.00 - 0s 3ms/step - loss: 0.0104 - accuracy: 1.0000\n",
      "Epoch 69/100\n",
      "2/2 [==============================] - ETA: 0s - loss: 0.0099 - accuracy: 1.00 - 0s 5ms/step - loss: 0.0100 - accuracy: 1.0000\n",
      "Epoch 70/100\n",
      "2/2 [==============================] - ETA: 0s - loss: 0.0091 - accuracy: 1.00 - 0s 3ms/step - loss: 0.0094 - accuracy: 1.0000\n",
      "Epoch 71/100\n",
      "2/2 [==============================] - ETA: 0s - loss: 0.0089 - accuracy: 1.00 - 0s 3ms/step - loss: 0.0091 - accuracy: 1.0000\n",
      "Epoch 72/100\n",
      "2/2 [==============================] - ETA: 0s - loss: 0.0069 - accuracy: 1.00 - 0s 3ms/step - loss: 0.0082 - accuracy: 1.0000\n",
      "Epoch 73/100\n",
      "2/2 [==============================] - ETA: 0s - loss: 0.0085 - accuracy: 1.00 - 0s 4ms/step - loss: 0.0085 - accuracy: 1.0000\n",
      "Epoch 74/100\n",
      "2/2 [==============================] - ETA: 0s - loss: 0.0080 - accuracy: 1.00 - 0s 3ms/step - loss: 0.0081 - accuracy: 1.0000\n",
      "Epoch 75/100\n",
      "2/2 [==============================] - ETA: 0s - loss: 0.0077 - accuracy: 1.00 - 0s 4ms/step - loss: 0.0078 - accuracy: 1.0000\n",
      "Epoch 76/100\n",
      "2/2 [==============================] - ETA: 0s - loss: 0.0078 - accuracy: 1.00 - 0s 4ms/step - loss: 0.0077 - accuracy: 1.0000\n",
      "Epoch 77/100\n",
      "2/2 [==============================] - ETA: 0s - loss: 0.0062 - accuracy: 1.00 - 0s 4ms/step - loss: 0.0070 - accuracy: 1.0000\n",
      "Epoch 78/100\n",
      "2/2 [==============================] - ETA: 0s - loss: 0.0083 - accuracy: 1.00 - 0s 3ms/step - loss: 0.0075 - accuracy: 1.0000\n",
      "Epoch 79/100\n",
      "2/2 [==============================] - ETA: 0s - loss: 0.0071 - accuracy: 1.00 - 0s 3ms/step - loss: 0.0070 - accuracy: 1.0000\n",
      "Epoch 80/100\n",
      "2/2 [==============================] - ETA: 0s - loss: 0.0057 - accuracy: 1.00 - 0s 3ms/step - loss: 0.0063 - accuracy: 1.0000\n",
      "Epoch 81/100\n",
      "2/2 [==============================] - ETA: 0s - loss: 0.0063 - accuracy: 1.00 - 0s 3ms/step - loss: 0.0064 - accuracy: 1.0000\n",
      "Epoch 82/100\n",
      "2/2 [==============================] - ETA: 0s - loss: 0.0071 - accuracy: 1.00 - 0s 4ms/step - loss: 0.0065 - accuracy: 1.0000\n",
      "Epoch 83/100\n",
      "2/2 [==============================] - ETA: 0s - loss: 0.0054 - accuracy: 1.00 - 0s 4ms/step - loss: 0.0058 - accuracy: 1.0000\n",
      "Epoch 84/100\n",
      "2/2 [==============================] - ETA: 0s - loss: 0.0053 - accuracy: 1.00 - 0s 3ms/step - loss: 0.0056 - accuracy: 1.0000\n",
      "Epoch 85/100\n",
      "2/2 [==============================] - ETA: 0s - loss: 0.0060 - accuracy: 1.00 - 0s 3ms/step - loss: 0.0058 - accuracy: 1.0000\n",
      "Epoch 86/100\n",
      "2/2 [==============================] - ETA: 0s - loss: 0.0060 - accuracy: 1.00 - 0s 4ms/step - loss: 0.0057 - accuracy: 1.0000\n",
      "Epoch 87/100\n",
      "2/2 [==============================] - ETA: 0s - loss: 0.0055 - accuracy: 1.00 - 0s 3ms/step - loss: 0.0054 - accuracy: 1.0000\n",
      "Epoch 88/100\n",
      "2/2 [==============================] - ETA: 0s - loss: 0.0049 - accuracy: 1.00 - 0s 4ms/step - loss: 0.0050 - accuracy: 1.0000\n",
      "Epoch 89/100\n",
      "2/2 [==============================] - ETA: 0s - loss: 0.0048 - accuracy: 1.00 - 0s 3ms/step - loss: 0.0049 - accuracy: 1.0000\n",
      "Epoch 90/100\n",
      "2/2 [==============================] - ETA: 0s - loss: 0.0042 - accuracy: 1.00 - 0s 3ms/step - loss: 0.0046 - accuracy: 1.0000\n",
      "Epoch 91/100\n",
      "2/2 [==============================] - ETA: 0s - loss: 0.0047 - accuracy: 1.00 - 0s 3ms/step - loss: 0.0047 - accuracy: 1.0000\n",
      "Epoch 92/100\n",
      "2/2 [==============================] - ETA: 0s - loss: 0.0043 - accuracy: 1.00 - 0s 4ms/step - loss: 0.0045 - accuracy: 1.0000\n",
      "Epoch 93/100\n",
      "2/2 [==============================] - ETA: 0s - loss: 0.0041 - accuracy: 1.00 - 0s 3ms/step - loss: 0.0043 - accuracy: 1.0000\n",
      "Epoch 94/100\n",
      "2/2 [==============================] - ETA: 0s - loss: 0.0043 - accuracy: 1.00 - 0s 3ms/step - loss: 0.0043 - accuracy: 1.0000\n",
      "Epoch 95/100\n",
      "2/2 [==============================] - ETA: 0s - loss: 0.0041 - accuracy: 1.00 - 0s 3ms/step - loss: 0.0042 - accuracy: 1.0000\n",
      "Epoch 96/100\n",
      "2/2 [==============================] - ETA: 0s - loss: 0.0043 - accuracy: 1.00 - 0s 3ms/step - loss: 0.0042 - accuracy: 1.0000\n",
      "Epoch 97/100\n",
      "2/2 [==============================] - ETA: 0s - loss: 0.0040 - accuracy: 1.00 - 0s 3ms/step - loss: 0.0040 - accuracy: 1.0000\n",
      "Epoch 98/100\n",
      "2/2 [==============================] - ETA: 0s - loss: 0.0036 - accuracy: 1.00 - 0s 3ms/step - loss: 0.0038 - accuracy: 1.0000\n",
      "Epoch 99/100\n",
      "2/2 [==============================] - ETA: 0s - loss: 0.0048 - accuracy: 1.00 - 0s 3ms/step - loss: 0.0041 - accuracy: 1.0000\n",
      "Epoch 100/100\n",
      "2/2 [==============================] - ETA: 0s - loss: 0.0035 - accuracy: 1.00 - 0s 3ms/step - loss: 0.0036 - accuracy: 1.0000\n"
     ]
    },
    {
     "data": {
      "text/plain": [
       "<tensorflow.python.keras.callbacks.History at 0x1c5fa7980b8>"
      ]
     },
     "execution_count": 4,
     "metadata": {},
     "output_type": "execute_result"
    }
   ],
   "source": [
    "model.fit(X_train,y_train, epochs=100, batch_size=128)\n"
   ]
  },
  {
   "cell_type": "code",
   "execution_count": 5,
   "metadata": {},
   "outputs": [
    {
     "name": "stdout",
     "output_type": "stream",
     "text": [
      "Accuracy=  66.12903225806451\n"
     ]
    }
   ],
   "source": [
    "from sklearn.metrics import accuracy_score\n",
    "predictions = model.predict(X_test).argmax(axis=1)\n",
    "y=accuracy_score(y_test,predictions)\n",
    "print('Accuracy= ',y*100)"
   ]
  }
 ],
 "metadata": {
  "kernelspec": {
   "display_name": "Python 3",
   "language": "python",
   "name": "python3"
  },
  "language_info": {
   "codemirror_mode": {
    "name": "ipython",
    "version": 3
   },
   "file_extension": ".py",
   "mimetype": "text/x-python",
   "name": "python",
   "nbconvert_exporter": "python",
   "pygments_lexer": "ipython3",
   "version": "3.7.3"
  }
 },
 "nbformat": 4,
 "nbformat_minor": 2
}
