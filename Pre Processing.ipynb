{
 "cells": [
  {
   "cell_type": "markdown",
   "metadata": {},
   "source": [
    "# Pre-Processing"
   ]
  },
  {
   "cell_type": "markdown",
   "metadata": {},
   "source": [
    "Importing Necessary libraries"
   ]
  },
  {
   "cell_type": "code",
   "execution_count": null,
   "metadata": {},
   "outputs": [],
   "source": [
    "import urllib.request,json\n",
    "import sys\n",
    "import os\n",
    "\n",
    "bPath=\"../data/xeno-canto-dataset-full-all-Countries/\"  #path of the dataset available from xeno canto website"
   ]
  },
  {
   "cell_type": "code",
   "execution_count": null,
   "metadata": {},
   "outputs": [],
   "source": [
    "def save_json(searchTerms, birdName, country):\n",
    "    numPages = 1\n",
    "    page = 1\n",
    "    # create a path to save json files and recordings\n",
    "    path = bPath + birdName.replace(':', '') + \"/\" + country\n",
    "    if not os.path.exists(path):\n",
    "        print(\"Creating subdirectory \" + path + \" for downloaded files...\")\n",
    "        os.makedirs(path)\n",
    "        # download a json file for every page found in a query\n",
    "    while page < numPages + 1:\n",
    "        print(\"Loading page \" + str(page) + \"...\")\n",
    "        url = 'https://www.xeno-canto.org/api/2/recordings?query={0}&page={1}'.format(searchTerms.replace(' ', '%20'),\n",
    "                                                                                      page)\n",
    "        print(\"url\",url)\n",
    "        jsonPage = urllib.request.urlopen(url)\n",
    "        jsondata = json.loads(jsonPage.read().decode('utf-8'))\n",
    "        filename = path + \"/jsondata_p\" + str(page) + \".json\"\n",
    "        with open(filename, 'w') as outfile:\n",
    "            json.dump(jsondata, outfile)\n",
    "        # check number of pages\n",
    "        numPages = jsondata['numPages']\n",
    "        page = page + 1\n",
    "    print(\"Found \", numPages, \" pages in total.\")\n",
    "    # return number of files in json\n",
    "    # each page contains 500 results, the last page can have less than 500 records\n",
    "    print(\"Saved json for \", (numPages - 1) * 500 + len(jsondata['recordings']), \" files\")\n",
    "    return path\n",
    "\n",
    "# reads the json and return the list of values for selected json part\n",
    "# i.e. \"id\" - ID number, \"type\": type of the bird sound such as call or song\n",
    "# for all Xeno Canto files found with the given search terms.\n",
    "def read_data(searchTerm, path):\n",
    "    data = []\n",
    "    numPages = 1\n",
    "    page = 1\n",
    "    # read all pages and save results in a list\n",
    "    while page < numPages + 1:\n",
    "        # read file\n",
    "        with open(path + \"/jsondata_p\" + str(page) + \".json\", 'r') as jsonfile:\n",
    "            jsondata = jsonfile.read()\n",
    "        jsondata = json.loads(jsondata)\n",
    "        # check number of pages\n",
    "        numPages = jsondata['numPages']\n",
    "        # find \"recordings\" in a json and save a list with a search term\n",
    "        for k in range(len(jsondata['recordings'])):\n",
    "            data.append(jsondata[\"recordings\"][k][searchTerm])\n",
    "        page = page + 1\n",
    "    return data\n",
    "\n",
    "\n",
    "# downloads all sound files found with the search terms into xeno-canto directory\n",
    "# into catalogue named after the search term (i.e. Apus apus)\n",
    "# filename have two parts: the name of the bird in latin and ID number\n",
    "def download(searchTerms, birdName, country):\n",
    "    # create data/xeno-canto-dataset directory\n",
    "    print(\"X\",searchTerms, birdName, country)\n",
    "    path = save_json(searchTerms, birdName, country)\n",
    "    print(\"path\",path)\n",
    "    # get filenames: recording ID and bird name in latin from json\n",
    "    filenamesID = read_data('id', path)\n",
    "    filenamesCountry = read_data('cnt', path)\n",
    "    print(filenamesID,filenamesCountry)\n",
    "    # get website recording http download address from json\n",
    "    fileaddress = read_data('file', path)\n",
    "    numfiles = len(filenamesID)\n",
    "    print(\"A total of \", numfiles, \" files will be downloaded\")\n",
    "    for i in range(0, numfiles):\n",
    "        print(\"Saving file \", i + 1, \"/\", numfiles,\n",
    "              bPath + birdName.replace(':', '') + filenamesID[\n",
    "                  i] + \".mp3\")\n",
    "        urllib.request.urlretrieve(\"http:\" + fileaddress[i],\n",
    "                                   path + \"/\" + birdName + filenamesID[i] + \".mp3\")"
   ]
  },
  {
   "cell_type": "markdown",
   "metadata": {},
   "source": [
    "Downloading the audios of the given birds of the given country"
   ]
  },
  {
   "cell_type": "code",
   "execution_count": null,
   "metadata": {},
   "outputs": [],
   "source": [
    "countries = ['Poland', 'Germany', 'Slovakia', 'Czech', 'Lithuania']\n",
    "birds = ['Coccothraustescoccothraustes',\n",
    "        'Columbapalumbus',\n",
    "        'Delichonurbicum',\n",
    "        'Apusapus',\n",
    "        'Sittaeuropaea',\n",
    "        'Phoenicurusochruros']\n",
    "\n",
    "for country in countries:\n",
    "    for bird in birds:\n",
    "        download(bird + ' cnt:' + country + ' type:song', bird.replace(' ', ''), country)\n",
    "for bird in birds:\n",
    "    download(bird + ' type:song', bird.replace(' ', ''), 'countries')"
   ]
  },
  {
   "cell_type": "markdown",
   "metadata": {},
   "source": [
    "mp3 to wav Conversion"
   ]
  },
  {
   "cell_type": "code",
   "execution_count": null,
   "metadata": {},
   "outputs": [],
   "source": [
    "import os\n",
    "from pydub import AudioSegment\n",
    "birds = ['Coccothraustescoccothraustes',\n",
    "        'Columbapalumbus',\n",
    "        'Delichonurbicum',\n",
    "        'Apusapus',\n",
    "        'Sittaeuropaea',\n",
    "        'Phoenicurusochruros']\n",
    "\n",
    "for b in birds:\n",
    "    path = \"C:/Users/data/xeno-canto-dataset-full-all-Countries/{0}/countries\".format(b)\n",
    "\n",
    "    #Change working directory\n",
    "    os.chdir(path)\n",
    "\n",
    "    audio_files = os.listdir()\n",
    "\n",
    "    # You dont need the number of files in the folder, just iterate over them directly using:\n",
    "    for file in audio_files:\n",
    "        #spliting the file into the name and the extension\n",
    "        name, ext = os.path.splitext(file)\n",
    "        if ext == \".mp3\":\n",
    "           mp3_sound = AudioSegment.from_mp3(file)\n",
    "           #rename them using the old name + \".wav\"\n",
    "           mp3_sound.export(\"{0}.wav\".format(name), format=\"wav\")"
   ]
  },
  {
   "cell_type": "markdown",
   "metadata": {},
   "source": [
    "Making of the csv file by feature extraction from the wav file using the librosa library, this csv file will be used as\n",
    "the data set for ANN and SVM models."
   ]
  },
  {
   "cell_type": "code",
   "execution_count": null,
   "metadata": {},
   "outputs": [],
   "source": [
    "file = open('bird dataset.csv', 'w', newline='')\n",
    "with file:\n",
    "    writer = csv.writer(file)\n",
    "    writer.writerow(header)\n",
    "birds = ['Coccothraustescoccothraustes',\n",
    "        'Columbapalumbus',\n",
    "        'Delichonurbicum',\n",
    "        'Apusapus',\n",
    "        'Sittaeuropaea',\n",
    "        'Phoenicurusochruros']\n",
    "for b in birds:\n",
    "    for filename in os.listdir('F:\\\\data\\\\xeno-canto-dataset-full-all-Countries\\\\{0}\\\\countries_wav'.format(b)):\n",
    "        birdsong = f'F:\\\\data\\\\xeno-canto-dataset-full-all-Countries\\\\{b}\\\\countries_wav\\\\{filename}'\n",
    "        #extracting of different features from the wav file\n",
    "        y, sr = librosa.load(birdsong, mono=True, duration=30)\n",
    "        chroma_stft = librosa.feature.chroma_stft(y=y, sr=sr)\n",
    "        spec_cent = librosa.feature.spectral_centroid(y=y, sr=sr)\n",
    "        spec_bw = librosa.feature.spectral_bandwidth(y=y, sr=sr)\n",
    "        rolloff = librosa.feature.spectral_rolloff(y=y, sr=sr)\n",
    "        zcr = librosa.feature.zero_crossing_rate(y)\n",
    "        mfcc = librosa.feature.mfcc(y=y, sr=sr)\n",
    "        to_append = f'{filename} {np.mean(chroma_stft)} {np.mean(spec_cent)} {np.mean(spec_bw)} {np.mean(rolloff)} {np.mean(zcr)}'    \n",
    "        for e in mfcc:\n",
    "            to_append += f' {np.mean(e)}'\n",
    "        to_append += f' {b}'\n",
    "        file = open('bird dataset.csv', 'a', newline='')\n",
    "        with file:\n",
    "            writer = csv.writer(file)\n",
    "            writer.writerow(to_append.split())"
   ]
  },
  {
   "cell_type": "markdown",
   "metadata": {},
   "source": [
    "wav to png Conversion for CNN model"
   ]
  },
  {
   "cell_type": "code",
   "execution_count": null,
   "metadata": {},
   "outputs": [],
   "source": [
    "cmap = plt.get_cmap('inferno')\n",
    "plt.figure(figsize=(8,8))\n",
    "birds = ['Coccothraustescoccothraustes',\n",
    "        'Columbapalumbus',\n",
    "        'Delichonurbicum',\n",
    "        'Apusapus',\n",
    "        'Sittaeuropaea',\n",
    "        'Phoenicurusochruros']\n",
    "\n",
    "for b in birds:\n",
    "    pathlib.Path(f'img_data/{b}').mkdir(parents=True, exist_ok=True)\n",
    "    for filename in os.listdir(f'F:\\\\data\\\\xeno-canto-dataset-full-all-Countries\\\\{b}\\\\countries_wav'):\n",
    "        birdsound = f'F:\\\\data\\\\xeno-canto-dataset-full-all-Countries\\\\{b}\\\\countries_wav\\\\{filename}'\n",
    "        y, sr = librosa.load(birdsound, mono=True, duration=5)\n",
    "        plt.specgram(y, NFFT=2048, Fs=2, Fc=0, noverlap=128, cmap=cmap, sides='default', mode='default', scale='dB');\n",
    "        plt.axis('off');\n",
    "        plt.savefig(f'img_data/{b}/{filename[:-3].replace(\".\", \"\")}.png')\n",
    "        plt.clf()"
   ]
  }
 ],
 "metadata": {
  "kernelspec": {
   "display_name": "Python 3",
   "language": "python",
   "name": "python3"
  },
  "language_info": {
   "codemirror_mode": {
    "name": "ipython",
    "version": 3
   },
   "file_extension": ".py",
   "mimetype": "text/x-python",
   "name": "python",
   "nbconvert_exporter": "python",
   "pygments_lexer": "ipython3",
   "version": "3.7.3"
  }
 },
 "nbformat": 4,
 "nbformat_minor": 4
}
